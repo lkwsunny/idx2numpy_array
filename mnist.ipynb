{
  "nbformat": 4,
  "nbformat_minor": 0,
  "metadata": {
    "colab": {
      "name": "mnist.ipynb",
      "provenance": []
    },
    "kernelspec": {
      "name": "python3",
      "display_name": "Python 3"
    }
  },
  "cells": [
    {
      "cell_type": "code",
      "metadata": {
        "id": "exDsOocHOWui",
        "colab_type": "code",
        "colab": {}
      },
      "source": [
        "import numpy as np\n",
        "import struct as st"
      ],
      "execution_count": 1,
      "outputs": []
    },
    {
      "cell_type": "code",
      "metadata": {
        "id": "ZLGw7b4LOaWl",
        "colab_type": "code",
        "colab": {}
      },
      "source": [
        "import matplotlib.pyplot as plt"
      ],
      "execution_count": 2,
      "outputs": []
    },
    {
      "cell_type": "code",
      "metadata": {
        "id": "1O10Ip8iPe5x",
        "colab_type": "code",
        "colab": {}
      },
      "source": [
        "import time\n",
        "import math"
      ],
      "execution_count": 19,
      "outputs": []
    },
    {
      "cell_type": "code",
      "metadata": {
        "id": "c9WwVqo4Ocan",
        "colab_type": "code",
        "colab": {
          "base_uri": "https://localhost:8080/",
          "height": 202
        },
        "outputId": "f7b7d5a7-6ac8-4d22-af82-090f34dbd125"
      },
      "source": [
        "!wget http://yann.lecun.com/exdb/mnist/train-images-idx3-ubyte.gz"
      ],
      "execution_count": 3,
      "outputs": [
        {
          "output_type": "stream",
          "text": [
            "--2020-09-10 13:35:02--  http://yann.lecun.com/exdb/mnist/train-images-idx3-ubyte.gz\n",
            "Resolving yann.lecun.com (yann.lecun.com)... 104.28.6.204, 104.28.7.204, 172.67.171.76, ...\n",
            "Connecting to yann.lecun.com (yann.lecun.com)|104.28.6.204|:80... connected.\n",
            "HTTP request sent, awaiting response... 200 OK\n",
            "Length: 9912422 (9.5M) [application/x-gzip]\n",
            "Saving to: ‘train-images-idx3-ubyte.gz’\n",
            "\n",
            "train-images-idx3-u 100%[===================>]   9.45M  34.2MB/s    in 0.3s    \n",
            "\n",
            "2020-09-10 13:35:03 (34.2 MB/s) - ‘train-images-idx3-ubyte.gz’ saved [9912422/9912422]\n",
            "\n"
          ],
          "name": "stdout"
        }
      ]
    },
    {
      "cell_type": "code",
      "metadata": {
        "id": "gdFBjlKrOghU",
        "colab_type": "code",
        "colab": {
          "base_uri": "https://localhost:8080/",
          "height": 202
        },
        "outputId": "eb3e50fd-a57f-4408-dc73-817d9d1d9d54"
      },
      "source": [
        "!wget http://yann.lecun.com/exdb/mnist/train-labels-idx1-ubyte.gz"
      ],
      "execution_count": 4,
      "outputs": [
        {
          "output_type": "stream",
          "text": [
            "--2020-09-10 13:35:12--  http://yann.lecun.com/exdb/mnist/train-labels-idx1-ubyte.gz\n",
            "Resolving yann.lecun.com (yann.lecun.com)... 172.67.171.76, 104.28.7.204, 104.28.6.204, ...\n",
            "Connecting to yann.lecun.com (yann.lecun.com)|172.67.171.76|:80... connected.\n",
            "HTTP request sent, awaiting response... 200 OK\n",
            "Length: 28881 (28K) [application/x-gzip]\n",
            "Saving to: ‘train-labels-idx1-ubyte.gz’\n",
            "\n",
            "\r          train-lab   0%[                    ]       0  --.-KB/s               \rtrain-labels-idx1-u 100%[===================>]  28.20K  --.-KB/s    in 0.02s   \n",
            "\n",
            "2020-09-10 13:35:12 (1.30 MB/s) - ‘train-labels-idx1-ubyte.gz’ saved [28881/28881]\n",
            "\n"
          ],
          "name": "stdout"
        }
      ]
    },
    {
      "cell_type": "code",
      "metadata": {
        "id": "DyIdseZoOi7u",
        "colab_type": "code",
        "colab": {
          "base_uri": "https://localhost:8080/",
          "height": 202
        },
        "outputId": "9748ec54-0807-4296-a927-1613aab53fd1"
      },
      "source": [
        "!wget http://yann.lecun.com/exdb/mnist/t10k-images-idx3-ubyte.gz"
      ],
      "execution_count": 5,
      "outputs": [
        {
          "output_type": "stream",
          "text": [
            "--2020-09-10 13:35:23--  http://yann.lecun.com/exdb/mnist/t10k-images-idx3-ubyte.gz\n",
            "Resolving yann.lecun.com (yann.lecun.com)... 172.67.171.76, 104.28.7.204, 104.28.6.204, ...\n",
            "Connecting to yann.lecun.com (yann.lecun.com)|172.67.171.76|:80... connected.\n",
            "HTTP request sent, awaiting response... 200 OK\n",
            "Length: 1648877 (1.6M) [application/x-gzip]\n",
            "Saving to: ‘t10k-images-idx3-ubyte.gz’\n",
            "\n",
            "t10k-images-idx3-ub 100%[===================>]   1.57M  9.57MB/s    in 0.2s    \n",
            "\n",
            "2020-09-10 13:35:23 (9.57 MB/s) - ‘t10k-images-idx3-ubyte.gz’ saved [1648877/1648877]\n",
            "\n"
          ],
          "name": "stdout"
        }
      ]
    },
    {
      "cell_type": "code",
      "metadata": {
        "id": "LAAPrRCBOljY",
        "colab_type": "code",
        "colab": {
          "base_uri": "https://localhost:8080/",
          "height": 202
        },
        "outputId": "38e85451-9cf4-4fbf-bc3d-bcb6c6b513ea"
      },
      "source": [
        "!wget http://yann.lecun.com/exdb/mnist/t10k-labels-idx1-ubyte.gz"
      ],
      "execution_count": 6,
      "outputs": [
        {
          "output_type": "stream",
          "text": [
            "--2020-09-10 13:35:31--  http://yann.lecun.com/exdb/mnist/t10k-labels-idx1-ubyte.gz\n",
            "Resolving yann.lecun.com (yann.lecun.com)... 172.67.171.76, 104.28.7.204, 104.28.6.204, ...\n",
            "Connecting to yann.lecun.com (yann.lecun.com)|172.67.171.76|:80... connected.\n",
            "HTTP request sent, awaiting response... 200 OK\n",
            "Length: 4542 (4.4K) [application/x-gzip]\n",
            "Saving to: ‘t10k-labels-idx1-ubyte.gz’\n",
            "\n",
            "\r          t10k-labe   0%[                    ]       0  --.-KB/s               \rt10k-labels-idx1-ub 100%[===================>]   4.44K  --.-KB/s    in 0s      \n",
            "\n",
            "2020-09-10 13:35:31 (427 MB/s) - ‘t10k-labels-idx1-ubyte.gz’ saved [4542/4542]\n",
            "\n"
          ],
          "name": "stdout"
        }
      ]
    },
    {
      "cell_type": "code",
      "metadata": {
        "id": "IclAgrFUOngh",
        "colab_type": "code",
        "colab": {}
      },
      "source": [
        "!gzip -d /content/train-images-idx3-ubyte.gz"
      ],
      "execution_count": 7,
      "outputs": []
    },
    {
      "cell_type": "code",
      "metadata": {
        "id": "5lpS81rMOz4C",
        "colab_type": "code",
        "colab": {}
      },
      "source": [
        "!gzip -d /content/train-labels-idx1-ubyte.gz"
      ],
      "execution_count": 8,
      "outputs": []
    },
    {
      "cell_type": "code",
      "metadata": {
        "id": "GWm6_69ZO28h",
        "colab_type": "code",
        "colab": {}
      },
      "source": [
        "!gzip -d /content/t10k-labels-idx1-ubyte.gz"
      ],
      "execution_count": 9,
      "outputs": []
    },
    {
      "cell_type": "code",
      "metadata": {
        "id": "cM4lmx-xO53-",
        "colab_type": "code",
        "colab": {}
      },
      "source": [
        "!gzip -d /content/t10k-images-idx3-ubyte.gz"
      ],
      "execution_count": 10,
      "outputs": []
    },
    {
      "cell_type": "code",
      "metadata": {
        "id": "i_i-gjgbO8jE",
        "colab_type": "code",
        "colab": {
          "base_uri": "https://localhost:8080/",
          "height": 638
        },
        "outputId": "3b034ee4-d056-4dfd-8999-19007ef8e2ae"
      },
      "source": [
        "trainingfilenames = {'images' : '/content/train-images-idx3-ubyte' ,'labels' : '/content/train-labels-idx1-ubyte'}\n",
        "testfilenames = {'images' : '/content/t10k-images-idx3-ubyte' ,'labels' : '/content/t10k-labels-idx1-ubyte'}\n",
        "\n",
        "data_types = {\n",
        "        0x08: ('ubyte', 'B', 1),\n",
        "        0x09: ('byte', 'b', 1),\n",
        "        0x0B: ('>i2', 'h', 2),\n",
        "        0x0C: ('>i4', 'i', 4),\n",
        "        0x0D: ('>f4', 'f', 4),\n",
        "        0x0E: ('>f8', 'd', 8)}\n",
        "\n",
        "#..........................................................For training dataset..............................................................\n",
        "print(\"Training Dataset.......\")\n",
        "stime = time.time()\n",
        "for name in trainingfilenames.keys():\n",
        "\tif name == 'images':\n",
        "\t\ttrain_imagesfile = open(trainingfilenames[name],'rb')\n",
        "\tif name == 'labels':\n",
        "\t\ttrain_labelsfile = open(trainingfilenames[name],'rb')#,encoding='latin-1')\n",
        "\n",
        "train_imagesfile.seek(0)\n",
        "magic = st.unpack('>4B',train_imagesfile.read(4))\n",
        "if(magic[0] and magic[1])or(magic[2] not in data_types):\n",
        "\traise ValueError(\"File Format not correct\")\n",
        "\n",
        "#Information\n",
        "nDim = magic[3]\n",
        "print(\"Data is \"+str(nDim)+\"-D\")\n",
        "dataType = data_types[magic[2]][0]\n",
        "print(\"Data Type :: \",dataType)\n",
        "dataFormat = data_types[magic[2]][1]\n",
        "print(\"Data Format :: \",dataFormat)\n",
        "dataSize = data_types[magic[2]][2]\n",
        "print(\"Data Size :: \"+str(dataSize)+\" byte\\n\")\n",
        "\n",
        "#offset = 0004 for number of images\n",
        "#offset = 0008 for number of rows\n",
        "#offset = 0012 for number of columns\n",
        "#32-bit integer (32 bits = 4 bytes)\n",
        "train_imagesfile.seek(4)\n",
        "nImg = st.unpack('>I',train_imagesfile.read(4))[0] #num of images/labels\n",
        "nR = st.unpack('>I',train_imagesfile.read(4))[0] #num of rows\n",
        "nC = st.unpack('>I',train_imagesfile.read(4))[0] #num of columns\n",
        "\n",
        "train_labelsfile.seek(8) #Since no. of items = no. of images and is already read\n",
        "print(\"no. of images :: \",nImg)\n",
        "print(\"no. of rows :: \",nR)\n",
        "print(\"no. of columns :: \",nC)\n",
        "print\n",
        "#Training set\n",
        "#Reading the labels\n",
        "train_labels_array = np.asarray(st.unpack('>'+dataFormat*nImg,train_labelsfile.read(nImg*dataSize))).reshape((nImg,1))\n",
        "#Reading the Image data\n",
        "nBatch = 10000\n",
        "nIter = int(math.ceil(nImg/nBatch))\n",
        "nBytes = nBatch*nR*nC*dataSize\n",
        "nBytesTot = nImg*nR*nC*dataSize\n",
        "train_images_array = np.array([])\n",
        "for i in range(0,nIter):\n",
        "\t#try:\n",
        "\ttemp_images_array = np.asarray(st.unpack('>'+dataFormat*nBytes,train_imagesfile.read(nBytes))).reshape((nBatch,nR,nC))\n",
        "\t'''except:\n",
        "\t\tnbytes = nBytesTot - (nIter-1)*nBytes\n",
        "\t\ttemp_images_array = 255 - np.asarray(st.unpack('>'+'B'*nbytes,train_imagesfile.read(nbytes))).reshape((nBatch,nR,nC))'''\n",
        "\t#Stacking each nBatch block to form a larger block\n",
        "\tif train_images_array.size == 0:\n",
        "\t\ttrain_images_array = temp_images_array\n",
        "\telse:\n",
        "\t\ttrain_images_array = np.vstack((train_images_array,temp_images_array))\n",
        "\ttemp_images_array = np.array([])\n",
        "\tprint(\"Time taken :: \"+str(time.time()-stime)+\" seconds\\n\")\n",
        "\tprint(str((float(i+1)/nIter)*100)+\"% complete...\\n\")\n",
        "\n",
        "\n",
        "print(\"Training Set Labels shape ::\",train_labels_array.shape)\n",
        "print(\"Training Set Image shape ::\",train_images_array.shape)\n",
        "\n",
        "print(\"Time of execution :: \"+str(time.time()-stime)+\" seconds\\n\")\n"
      ],
      "execution_count": 31,
      "outputs": [
        {
          "output_type": "stream",
          "text": [
            "Training Dataset.......\n",
            "Data is 3-D\n",
            "Data Type ::  ubyte\n",
            "Data Format ::  B\n",
            "Data Size :: 1 byte\n",
            "\n",
            "no. of images ::  60000\n",
            "no. of rows ::  28\n",
            "no. of columns ::  28\n",
            "Time taken :: 0.7911324501037598 seconds\n",
            "\n",
            "16.666666666666664% complete...\n",
            "\n",
            "Time taken :: 1.5713651180267334 seconds\n",
            "\n",
            "33.33333333333333% complete...\n",
            "\n",
            "Time taken :: 2.312124490737915 seconds\n",
            "\n",
            "50.0% complete...\n",
            "\n",
            "Time taken :: 3.122354507446289 seconds\n",
            "\n",
            "66.66666666666666% complete...\n",
            "\n",
            "Time taken :: 4.049492597579956 seconds\n",
            "\n",
            "83.33333333333334% complete...\n",
            "\n",
            "Time taken :: 4.834778785705566 seconds\n",
            "\n",
            "100.0% complete...\n",
            "\n",
            "Training Set Labels shape :: (60000, 1)\n",
            "Training Set Image shape :: (60000, 28, 28)\n",
            "Time of execution :: 4.835294246673584 seconds\n",
            "\n"
          ],
          "name": "stdout"
        }
      ]
    },
    {
      "cell_type": "code",
      "metadata": {
        "id": "tfBt9-QrPaKT",
        "colab_type": "code",
        "colab": {
          "base_uri": "https://localhost:8080/",
          "height": 218
        },
        "outputId": "30bfc439-c414-47fc-fb54-f8f849a22989"
      },
      "source": [
        "#..........................................................For test dataset..................................................................\n",
        "print(\"Test Dataset.......\")\n",
        "stime = time.time()\n",
        "for name in testfilenames.keys():\n",
        "\tif name == 'images':\n",
        "\t\ttest_imagesfile = open(testfilenames[name],'rb')\n",
        "\tif name == 'labels':\n",
        "\t\ttest_labelsfile = open(testfilenames[name],'rb')\n",
        "test_imagesfile.seek(0)\n",
        "magic = st.unpack('>4B',test_imagesfile.read(4))\n",
        "if(magic[0] and magic[1])or(magic[2] not in data_types):\n",
        "\traise ValueError(\"File Format not correct\")\n",
        "\n",
        "nDim = magic[3]\n",
        "print(\"Data is \",nDim,\"-D\")\n",
        "print\n",
        "#offset = 0004 for number of images\n",
        "#offset = 0008 for number of rows\n",
        "#offset = 0012 for number of columns\n",
        "#32-bit integer (32 bits = 4 bytes)\n",
        "test_imagesfile.seek(4)\n",
        "nImg = st.unpack('>I',test_imagesfile.read(4))[0] #num of images/labels\n",
        "nR = st.unpack('>I',test_imagesfile.read(4))[0] #num of rows\n",
        "nC = st.unpack('>I',test_imagesfile.read(4))[0] #num of columns\n",
        "\n",
        "test_labelsfile.seek(8) #Since no. of items = no. of images and is already read\n",
        "print(\"no. of images :: \",nImg)\n",
        "print(\"no. of rows :: \",nR)\n",
        "print(\"no. of columns :: \",nC)\n",
        "print\n",
        "#Test set\n",
        "#Reading the labels\n",
        "test_labels_array = np.asarray(st.unpack('>'+dataFormat*nImg,test_labelsfile.read(nImg*dataSize))).reshape((nImg,1))\n",
        "#Reading the Image data\n",
        "nBatch = 10000\n",
        "nIter = int(math.ceil(nImg/nBatch))\n",
        "nBytes = nBatch*nR*nC*dataSize\n",
        "nBytesTot = nImg*nR*nC*dataSize\n",
        "test_images_array = np.array([])\n",
        "for i in range(0,nIter):\n",
        "\t#try:\n",
        "\ttemp_images_array = np.asarray(st.unpack('>'+dataFormat*nBytes,test_imagesfile.read(nBytes))).reshape((nBatch,nR,nC))\n",
        "\t'''except:\n",
        "\t\tnbytes = nBytesTot - (nIter-1)*nBytes\n",
        "\t\ttemp_images_array = 255 - np.asarray(st.unpack('>'+'B'*nbytes,test_imagesfile.read(nbytes))).reshape((nBatch,nR,nC))'''\n",
        "\t#Stacking each nBatch block to form a larger block\n",
        "\tif test_images_array.size == 0:\n",
        "\t\ttest_images_array = temp_images_array\n",
        "\telse:\n",
        "\t\ttest_images_array = np.vstack((test_images_array,temp_images_array))\n",
        "\ttemp_images_array = np.array([])\n",
        "\tprint(\"Time taken :: \"+str(time.time()-stime)+\" seconds\\n\")\n",
        "\tprint(str((float(i+1)/nIter)*100)+\"% complete...\\n\")\n",
        "\n",
        "\n",
        "print(\"Test Set Labels shape ::\",test_labels_array.shape)\n",
        "print(\"Test Set Image shape ::\",test_images_array.shape)\n",
        "\n",
        "print(\"Time of execution : %s seconds\" % str(time.time()-stime))"
      ],
      "execution_count": 32,
      "outputs": [
        {
          "output_type": "stream",
          "text": [
            "Test Dataset.......\n",
            "Data is  3 -D\n",
            "no. of images ::  10000\n",
            "no. of rows ::  28\n",
            "no. of columns ::  28\n",
            "Time taken :: 0.7588319778442383 seconds\n",
            "\n",
            "100.0% complete...\n",
            "\n",
            "Test Set Labels shape :: (10000, 1)\n",
            "Test Set Image shape :: (10000, 28, 28)\n",
            "Time of execution : 0.7597315311431885 seconds\n"
          ],
          "name": "stdout"
        }
      ]
    },
    {
      "cell_type": "code",
      "metadata": {
        "id": "SuDBSzGwVenC",
        "colab_type": "code",
        "colab": {
          "base_uri": "https://localhost:8080/",
          "height": 282
        },
        "outputId": "52afd7f5-19fb-475b-946a-4b33dd68b371"
      },
      "source": [
        "plt.imshow(train_images_array[0],cmap='gray')"
      ],
      "execution_count": 33,
      "outputs": [
        {
          "output_type": "execute_result",
          "data": {
            "text/plain": [
              "<matplotlib.image.AxesImage at 0x7fdf8b231b70>"
            ]
          },
          "metadata": {
            "tags": []
          },
          "execution_count": 33
        },
        {
          "output_type": "display_data",
          "data": {
            "image/png": "[encoded data removed]",
            "text/plain": [
              "<Figure size 432x288 with 1 Axes>"
            ]
          },
          "metadata": {
            "tags": [],
            "needs_background": "light"
          }
        }
      ]
    },
    {
      "cell_type": "code",
      "metadata": {
        "id": "_RnmW72NWJGS",
        "colab_type": "code",
        "colab": {}
      },
      "source": [
        ""
      ],
      "execution_count": null,
      "outputs": []
    }
  ]
}